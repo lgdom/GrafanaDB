{
  "nbformat": 4,
  "nbformat_minor": 0,
  "metadata": {
    "colab": {
      "provenance": [],
      "toc_visible": true
    },
    "kernelspec": {
      "name": "python3",
      "display_name": "Python 3"
    },
    "language_info": {
      "name": "python"
    }
  },
  "cells": [
    {
      "cell_type": "code",
      "source": [
        "import pandas as pd\n",
        "import time\n",
        "from google.colab import files\n",
        "\n",
        "# Paso 1: Leer el archivo CSV original\n",
        "input_csv = '/content/TablaFallas.csv'  # Ruta del archivo original\n",
        "output_csv_mod = '/content/TablaFallas_modificado.csv'  # Ruta para el archivo modificado\n",
        "output_csv_no_empty = '/content/TablaFallas_sin_vacios.csv'  # Ruta para el archivo sin vacíos\n",
        "output_txt_line_protocol = '/content/TablaFallas_line_protocol.txt'  # Ruta para el archivo Line Protocol\n",
        "output_txt_adjusted = '/content/TablaFallas.txt'  # Ruta para el archivo ajustado con timestamps\n",
        "\n",
        "# Cargar los datos del CSV original\n",
        "df = pd.read_csv(input_csv)\n",
        "\n",
        "# Paso 2: Eliminar columnas no deseadas y renombrar 'Fecha y Hora' a 'Fecha'\n",
        "df.drop(columns=['Descripcion de Falla', 'Mes', 'Día', 'Semana', 'AÑO'], inplace=True)\n",
        "df.rename(columns={'Fecha y Hora': 'Fecha'}, inplace=True)\n",
        "\n",
        "# Guardar el DataFrame modificado\n",
        "df.to_csv(output_csv_mod, index=False, encoding='utf-8')\n",
        "print(\"Paso 2: Columnas eliminadas y columna 'Fecha' renombrada.\")\n",
        "\n",
        "# Paso 3: Reemplazar valores vacíos con 'Desconocido'\n",
        "df = pd.read_csv(output_csv_mod)\n",
        "df.fillna(\"Desconocido\", inplace=True)\n",
        "\n",
        "# Guardar el DataFrame sin vacíos\n",
        "df.to_csv(output_csv_no_empty, index=False, encoding='utf-8')\n",
        "print(\"Paso 3: Campos vacíos reemplazados por 'Desconocido'.\")\n",
        "\n",
        "# Paso 4: Convertir datos a Line Protocol\n",
        "df = pd.read_csv(output_csv_no_empty)\n",
        "line_protocol_lines = []\n",
        "\n",
        "# Función para escapar espacios\n",
        "def escape_spaces(name):\n",
        "    return str(name).replace(\" \", \"\\\\ \")\n",
        "\n",
        "# Recorrer cada fila para crear líneas de Line Protocol\n",
        "for index, row in df.iterrows():\n",
        "    planta = escape_spaces(row['Planta'])\n",
        "    area = escape_spaces(row['Area'])\n",
        "    subarea = escape_spaces(row['Subarea'])\n",
        "    plc = escape_spaces(row['PLC'])\n",
        "    grupo = escape_spaces(row['Group'])\n",
        "    receta = row['Receta']\n",
        "    objeto = row['Objeto']\n",
        "    tag = row['Tag']\n",
        "\n",
        "    timestamp = int(time.mktime(time.strptime(row['Fecha'], \"%d.%m.%Y %H:%M:%S\"))) * 1_000_000_000\n",
        "\n",
        "    line = (\n",
        "        f\"fallas,Planta={planta},Area={area},Subarea={subarea},PLC={plc},Group={grupo} \"\n",
        "        f\"Tag=\\\"{tag}\\\",Objeto=\\\"{objeto}\\\",Receta=\\\"{receta}\\\" {timestamp}\"\n",
        "    )\n",
        "    line_protocol_lines.append(line)\n",
        "\n",
        "# Guardar Line Protocol en un archivo .txt\n",
        "with open(output_txt_line_protocol, 'w', encoding='utf-8') as f:\n",
        "    for line in line_protocol_lines:\n",
        "        f.write(line + \"\\n\")\n",
        "\n",
        "print(\"Paso 4: Datos convertidos a Line Protocol y guardados en archivo.\")\n",
        "\n",
        "# Paso 5: Ajustar timestamps repetidos\n",
        "timestamp_count = {}\n",
        "adjusted_lines = []\n",
        "\n",
        "with open(output_txt_line_protocol, 'r', encoding='utf-8') as f:\n",
        "    lines = f.readlines()\n",
        "\n",
        "for line in lines:\n",
        "    parts = line.strip().rsplit(' ', 1)\n",
        "    if len(parts) != 2:\n",
        "        continue\n",
        "\n",
        "    line_data, timestamp_str = parts\n",
        "    timestamp = int(timestamp_str)\n",
        "\n",
        "    if timestamp in timestamp_count:\n",
        "        timestamp_count[timestamp] += 1\n",
        "        adjusted_timestamp = timestamp + timestamp_count[timestamp]\n",
        "    else:\n",
        "        timestamp_count[timestamp] = 0\n",
        "        adjusted_timestamp = timestamp\n",
        "\n",
        "    adjusted_line = f\"{line_data} {adjusted_timestamp}\"\n",
        "    adjusted_lines.append(adjusted_line)\n",
        "\n",
        "# Guardar las líneas ajustadas\n",
        "with open(output_txt_adjusted, 'w', encoding='utf-8') as f:\n",
        "    for adjusted_line in adjusted_lines:\n",
        "        f.write(adjusted_line + \"\\n\")\n",
        "\n",
        "print(\"Paso 5: Timestamps ajustados y guardados en archivo.\")\n",
        "\n",
        "# Paso 6: Descargar el archivo ajustado\n",
        "files.download(output_txt_adjusted)\n",
        "print(\"Paso 6: Archivo descargado.\")"
      ],
      "metadata": {
        "colab": {
          "base_uri": "https://localhost:8080/",
          "height": 104
        },
        "id": "91PJO87zvAnz",
        "outputId": "d9bea843-9301-4076-dc21-84690123c16f"
      },
      "execution_count": 1,
      "outputs": [
        {
          "output_type": "stream",
          "name": "stdout",
          "text": [
            "Paso 2: Columnas eliminadas y columna 'Fecha' renombrada.\n",
            "Paso 3: Campos vacíos reemplazados por 'Desconocido'.\n",
            "Paso 4: Datos convertidos a Line Protocol y guardados en archivo.\n",
            "Paso 5: Timestamps ajustados y guardados en archivo.\n"
          ]
        },
        {
          "output_type": "display_data",
          "data": {
            "text/plain": [
              "<IPython.core.display.Javascript object>"
            ],
            "application/javascript": [
              "\n",
              "    async function download(id, filename, size) {\n",
              "      if (!google.colab.kernel.accessAllowed) {\n",
              "        return;\n",
              "      }\n",
              "      const div = document.createElement('div');\n",
              "      const label = document.createElement('label');\n",
              "      label.textContent = `Downloading \"${filename}\": `;\n",
              "      div.appendChild(label);\n",
              "      const progress = document.createElement('progress');\n",
              "      progress.max = size;\n",
              "      div.appendChild(progress);\n",
              "      document.body.appendChild(div);\n",
              "\n",
              "      const buffers = [];\n",
              "      let downloaded = 0;\n",
              "\n",
              "      const channel = await google.colab.kernel.comms.open(id);\n",
              "      // Send a message to notify the kernel that we're ready.\n",
              "      channel.send({})\n",
              "\n",
              "      for await (const message of channel.messages) {\n",
              "        // Send a message to notify the kernel that we're ready.\n",
              "        channel.send({})\n",
              "        if (message.buffers) {\n",
              "          for (const buffer of message.buffers) {\n",
              "            buffers.push(buffer);\n",
              "            downloaded += buffer.byteLength;\n",
              "            progress.value = downloaded;\n",
              "          }\n",
              "        }\n",
              "      }\n",
              "      const blob = new Blob(buffers, {type: 'application/binary'});\n",
              "      const a = document.createElement('a');\n",
              "      a.href = window.URL.createObjectURL(blob);\n",
              "      a.download = filename;\n",
              "      div.appendChild(a);\n",
              "      a.click();\n",
              "      div.remove();\n",
              "    }\n",
              "  "
            ]
          },
          "metadata": {}
        },
        {
          "output_type": "display_data",
          "data": {
            "text/plain": [
              "<IPython.core.display.Javascript object>"
            ],
            "application/javascript": [
              "download(\"download_be35b329-d7ff-43a6-8e3b-cfc63a7e98f8\", \"TablaFallas.txt\", 37293661)"
            ]
          },
          "metadata": {}
        },
        {
          "output_type": "stream",
          "name": "stdout",
          "text": [
            "Paso 6: Archivo descargado.\n"
          ]
        }
      ]
    }
  ]
}